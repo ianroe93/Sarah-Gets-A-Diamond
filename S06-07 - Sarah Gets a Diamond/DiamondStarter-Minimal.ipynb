{
 "cells": [
  {
   "cell_type": "markdown",
   "id": "b411835c-7ade-4d79-b347-ead262ddf4dd",
   "metadata": {},
   "source": [
    "# Sarah Gets a Diamond - Minimal Starter Code"
   ]
  },
  {
   "cell_type": "markdown",
   "id": "a4223203-0c5c-4cc7-80bc-81ca2bb0f662",
   "metadata": {},
   "source": [
    "This is the same code that is in `DiamondStarter.ipynb`. However, I have removed all text, explanations, and unnecessary steps. If you have not already gone through `DiamondStarter.ipynb` carefully, you should start there.\n",
    "\n",
    "Sometimes it can be easier to work with a minimal notebook when actually building models, so you may when working with starter code want to replicate something like this. You can duplicate a file in JupyterHub by right clicking on the file and selecting \"Duplicate\". You can then go into the starter code and cut out unnecessary cells by using the scissor icon on the toolbar.\n",
    "\n",
    "Feel free to work in `DiamondStarter.ipynb` notebook instead. This is purely an optional resource."
   ]
  },
  {
   "cell_type": "markdown",
   "id": "24dcad29-c77b-469d-a25d-7f3bc4eab4e0",
   "metadata": {},
   "source": [
    "## Importing"
   ]
  },
  {
   "cell_type": "code",
   "execution_count": null,
   "id": "893706c2-7bae-4cd3-bd58-4e20264d6022",
   "metadata": {},
   "outputs": [],
   "source": [
    "import numpy as np\n",
    "import pandas as pd\n",
    "from math import *\n",
    "import statsmodels.formula.api as smf\n",
    "\n",
    "from sklearn.model_selection import train_test_split\n",
    "from sklearn.metrics import mean_absolute_error\n",
    "\n",
    "import seaborn as sns\n",
    "from matplotlib import pyplot as plt\n",
    "import matplotlib as mpl"
   ]
  },
  {
   "cell_type": "code",
   "execution_count": null,
   "id": "a7015625-4671-476d-a300-83c7cda1b98d",
   "metadata": {},
   "outputs": [],
   "source": [
    "# This is a comment. Anything in a \"code cell\" that is preceeded by a \"#\" is a comment\n",
    "# and it will not be interpreted as code to be run when you run the cell.\n",
    "# This sets some nicer defaults for plotting.\n",
    "# This must be run in a separate cell from importing matplotlib due to a bug.\n",
    "params = {'legend.fontsize': 'large',\n",
    "          'figure.figsize': (11.0, 11.0),\n",
    "          'axes.labelsize': 'x-large',\n",
    "          'axes.titlesize':'xx-large',\n",
    "          'xtick.labelsize':'large',\n",
    "          'ytick.labelsize':'large'}\n",
    "mpl.rcParams.update(params)\n",
    "\n",
    "# This makes it so that the pandas dataframes don't get truncated horizontally.\n",
    "pd.options.display.max_columns = 200"
   ]
  },
  {
   "cell_type": "markdown",
   "id": "4476a41c-3ae6-4f84-bbac-0010fd8c70b4",
   "metadata": {},
   "source": [
    "## Load and clean the data"
   ]
  },
  {
   "cell_type": "code",
   "execution_count": null,
   "id": "5d82e3d9-4758-4197-b2a8-383e3def40b1",
   "metadata": {},
   "outputs": [],
   "source": [
    "df_train = pd.read_csv(\"train.csv\", index_col=\"ID\")\n",
    "df_test = pd.read_csv(\"test.csv\", index_col=\"ID\")"
   ]
  },
  {
   "cell_type": "code",
   "execution_count": null,
   "id": "08b5b4b0-1863-4759-8f20-960d67c069c0",
   "metadata": {},
   "outputs": [],
   "source": [
    "df_train.head()"
   ]
  },
  {
   "cell_type": "code",
   "execution_count": null,
   "id": "7f61b4d8-dd2c-47d4-b2ef-46d429b88549",
   "metadata": {},
   "outputs": [],
   "source": [
    "df_train.shape"
   ]
  },
  {
   "cell_type": "code",
   "execution_count": null,
   "id": "b1cc3763-5d00-4c92-aec4-ef755ce39dc8",
   "metadata": {},
   "outputs": [],
   "source": [
    "df_test.shape"
   ]
  },
  {
   "cell_type": "code",
   "execution_count": null,
   "id": "fcb26e26-156b-458b-8fad-b958905fe9dc",
   "metadata": {},
   "outputs": [],
   "source": [
    "def summarize_dataframe(df):\n",
    "    \"\"\"Summarize a dataframe, and report missing values.\"\"\"\n",
    "    missing_values = pd.concat([pd.DataFrame(df.columns, columns=['Variable Name']), \n",
    "                      pd.DataFrame(df.dtypes.values.reshape([-1,1]), columns=['Data Type']),\n",
    "                      pd.DataFrame(df.isnull().sum().values, columns=['Missing Values']), \n",
    "                      pd.DataFrame([df[name].nunique() for name in df.columns], columns=['Unique Values'])], \n",
    "                     axis=1).set_index('Variable Name')\n",
    "    with pd.option_context(\"display.max_rows\", 1000):\n",
    "        display(pd.concat([missing_values, df.describe(include='all').transpose()], axis=1).fillna(\"\"))"
   ]
  },
  {
   "cell_type": "code",
   "execution_count": null,
   "id": "618c306b-ecc1-4202-825f-9a3d909bd4bc",
   "metadata": {},
   "outputs": [],
   "source": [
    "summarize_dataframe(df_train)"
   ]
  },
  {
   "cell_type": "code",
   "execution_count": null,
   "id": "481edf32-e5ed-481e-b691-9272a555de14",
   "metadata": {},
   "outputs": [],
   "source": [
    "summarize_dataframe(df_test)"
   ]
  },
  {
   "cell_type": "code",
   "execution_count": null,
   "id": "387480c2-57ef-4298-93c4-63de158870ac",
   "metadata": {},
   "outputs": [],
   "source": [
    "df_train['Price']"
   ]
  },
  {
   "cell_type": "markdown",
   "id": "99e3c339-133d-4ab1-935b-741df7d4d44a",
   "metadata": {},
   "source": [
    "## Prepare the data"
   ]
  },
  {
   "cell_type": "code",
   "execution_count": null,
   "id": "c8b7f68a-d417-463e-bd4b-4f931e2a0ac0",
   "metadata": {},
   "outputs": [],
   "source": [
    "df_train['Price_numeric'] = df_train['Price'].replace(to_replace='[\\$,]', value='', regex=True).astype(float)"
   ]
  },
  {
   "cell_type": "code",
   "execution_count": null,
   "id": "42fca152-0a61-4f94-a182-19b737f53024",
   "metadata": {},
   "outputs": [],
   "source": [
    "summarize_dataframe(df_train)"
   ]
  },
  {
   "cell_type": "markdown",
   "id": "a3125d3d-dd9a-4acc-96d9-fcb886ed9372",
   "metadata": {},
   "source": [
    "## Split into `smaller_train` and `validation` Data Sets"
   ]
  },
  {
   "cell_type": "code",
   "execution_count": null,
   "id": "d20620c8-62c6-44cf-bd8f-2c15e1628e49",
   "metadata": {},
   "outputs": [],
   "source": [
    "df_smaller_train, df_validation = train_test_split(df_train, test_size=.25, random_state=201)"
   ]
  },
  {
   "cell_type": "code",
   "execution_count": null,
   "id": "70a8a460-1505-4973-aa1c-9eca7dc5e923",
   "metadata": {},
   "outputs": [],
   "source": [
    "summarize_dataframe(df_smaller_train)"
   ]
  },
  {
   "cell_type": "code",
   "execution_count": null,
   "id": "28eb5cef-20c8-4a37-855e-89533ea2a747",
   "metadata": {},
   "outputs": [],
   "source": [
    "summarize_dataframe(df_validation)"
   ]
  },
  {
   "cell_type": "markdown",
   "id": "f1263a22-98e1-4665-84eb-d92805a8c549",
   "metadata": {},
   "source": [
    "## Advanced Regressions"
   ]
  },
  {
   "cell_type": "markdown",
   "id": "fb146b67-1235-45b1-b82d-78af46d85437",
   "metadata": {},
   "source": [
    "### Additive Model"
   ]
  },
  {
   "cell_type": "code",
   "execution_count": null,
   "id": "789b312e-16d6-476a-b272-6399e5cb817f",
   "metadata": {},
   "outputs": [],
   "source": [
    "lm_1 = smf.ols(formula='Price_numeric ~ Q(\"Carat Weight\")', data=df_smaller_train).fit()\n",
    "lm_1.summary()"
   ]
  },
  {
   "cell_type": "code",
   "execution_count": null,
   "id": "3912ebad-ed1d-4b27-840a-707003c764bc",
   "metadata": {},
   "outputs": [],
   "source": [
    "lm_1_predictions = lm_1.predict(df_validation)"
   ]
  },
  {
   "cell_type": "code",
   "execution_count": null,
   "id": "405453f3-1e43-4d9e-8c78-8f5f6af5ded8",
   "metadata": {},
   "outputs": [],
   "source": [
    "lm_1_predictions"
   ]
  },
  {
   "cell_type": "code",
   "execution_count": null,
   "id": "c773edf6-5a84-42b5-8c4e-652f38783ccc",
   "metadata": {},
   "outputs": [],
   "source": [
    "mean_absolute_error(df_validation[\"Price_numeric\"], lm_1_predictions)"
   ]
  },
  {
   "cell_type": "markdown",
   "id": "88f66923-583b-45a3-99aa-daf2c8ced5c7",
   "metadata": {},
   "source": [
    "### Multiplicative Model"
   ]
  },
  {
   "cell_type": "code",
   "execution_count": null,
   "id": "052bcfe1-4062-4098-a351-164d370716a3",
   "metadata": {},
   "outputs": [],
   "source": [
    "lm_2 = smf.ols(formula='np.log(Price_numeric) ~ Q(\"Carat Weight\")', data=df_smaller_train).fit()\n",
    "lm_2.summary()"
   ]
  },
  {
   "cell_type": "code",
   "execution_count": null,
   "id": "696bc657-3a8a-4d9a-bea0-a33bc6ab7709",
   "metadata": {},
   "outputs": [],
   "source": [
    "lm_2_predictions = lm_2.predict(df_validation)"
   ]
  },
  {
   "cell_type": "code",
   "execution_count": null,
   "id": "3672ccf2-b727-48fe-b500-8a0ebe7cb76b",
   "metadata": {},
   "outputs": [],
   "source": [
    "lm_2_predictions"
   ]
  },
  {
   "cell_type": "code",
   "execution_count": null,
   "id": "75e3bd52-4d7e-4d57-a7e8-0c5708f6a77e",
   "metadata": {},
   "outputs": [],
   "source": [
    "np.exp(lm_2_predictions)"
   ]
  },
  {
   "cell_type": "code",
   "execution_count": null,
   "id": "9a6b5dfb-8115-4563-85b8-e2e9b5e2c7ba",
   "metadata": {},
   "outputs": [],
   "source": [
    "mean_absolute_error(df_validation[\"Price_numeric\"], np.exp(lm_2_predictions))"
   ]
  },
  {
   "cell_type": "markdown",
   "id": "9f2aff55-1924-421d-ac88-983f6a754acc",
   "metadata": {},
   "source": [
    "### Log-Log Model"
   ]
  },
  {
   "cell_type": "code",
   "execution_count": null,
   "id": "20ab54bb-3897-4938-9283-4da4463a66b0",
   "metadata": {},
   "outputs": [],
   "source": [
    "lm_3 = smf.ols(formula='np.log(Price_numeric) ~ np.log(Q(\"Carat Weight\"))', data=df_smaller_train).fit()\n",
    "lm_3.summary()"
   ]
  },
  {
   "cell_type": "code",
   "execution_count": null,
   "id": "cee80b13-19a5-4004-b610-b49d2a3f6b9c",
   "metadata": {},
   "outputs": [],
   "source": [
    "lm_3_predictions = lm_3.predict(df_validation)"
   ]
  },
  {
   "cell_type": "code",
   "execution_count": null,
   "id": "7c78b378-1c5f-4cfc-a14c-e671afccfb80",
   "metadata": {},
   "outputs": [],
   "source": [
    "np.exp(lm_3_predictions)"
   ]
  },
  {
   "cell_type": "code",
   "execution_count": null,
   "id": "3b95635a-cea2-49b8-b1b2-b1e5f2579e27",
   "metadata": {},
   "outputs": [],
   "source": [
    "mean_absolute_error(df_validation[\"Price_numeric\"], np.exp(lm_3_predictions))"
   ]
  },
  {
   "cell_type": "markdown",
   "id": "98f06341-a888-487a-877a-0ddd1fdbccb3",
   "metadata": {},
   "source": [
    "### Models with Multiple Independent Variables"
   ]
  },
  {
   "cell_type": "code",
   "execution_count": null,
   "id": "a249d949-2f52-4982-8289-1d88c6372325",
   "metadata": {},
   "outputs": [],
   "source": [
    "lm_4 = smf.ols(formula='np.log(Price_numeric) ~ Cut + np.log(Q(\"Carat Weight\"))', data=df_smaller_train).fit()\n",
    "lm_4.summary()"
   ]
  },
  {
   "cell_type": "code",
   "execution_count": null,
   "id": "c8d48549-d9b0-4ae2-8b4a-fc79096aeea8",
   "metadata": {},
   "outputs": [],
   "source": [
    "df_smaller_train['Cut'].value_counts()"
   ]
  },
  {
   "cell_type": "code",
   "execution_count": null,
   "id": "666bd97c-8881-4dab-a912-b2d030816e78",
   "metadata": {},
   "outputs": [],
   "source": [
    "lm_4_predictions = lm_4.predict(df_validation)"
   ]
  },
  {
   "cell_type": "code",
   "execution_count": null,
   "id": "78286e12-3f7a-460a-a634-eb7f9173aa3b",
   "metadata": {},
   "outputs": [],
   "source": [
    "mean_absolute_error(df_validation[\"Price_numeric\"], np.exp(lm_4_predictions))"
   ]
  },
  {
   "cell_type": "markdown",
   "id": "3b2a133f-a3ed-423d-82ea-0566f2abd07e",
   "metadata": {},
   "source": [
    "### Model with Interactions"
   ]
  },
  {
   "cell_type": "code",
   "execution_count": null,
   "id": "d1fc89b6-302d-446c-9358-66904261213b",
   "metadata": {},
   "outputs": [],
   "source": [
    "lm_5 = smf.ols(formula='np.log(Price_numeric) ~ Cut + np.log(Q(\"Carat Weight\")) + Cut*np.log(Q(\"Carat Weight\"))', data=df_smaller_train).fit()\n",
    "lm_5.summary()"
   ]
  },
  {
   "cell_type": "code",
   "execution_count": null,
   "id": "cba46e1b-b351-4569-bc4f-e4853b327d0b",
   "metadata": {},
   "outputs": [],
   "source": [
    "lm_5_predictions = lm_5.predict(df_validation)"
   ]
  },
  {
   "cell_type": "code",
   "execution_count": null,
   "id": "757f76d2-34b5-4849-abf8-316d70d2f560",
   "metadata": {},
   "outputs": [],
   "source": [
    "mean_absolute_error(df_validation[\"Price_numeric\"], np.exp(lm_5_predictions))"
   ]
  },
  {
   "cell_type": "markdown",
   "id": "1d255af4-4fc1-4cb2-a5b3-ffed398c9902",
   "metadata": {},
   "source": [
    "### ADVANCED: Segmenting Variables"
   ]
  },
  {
   "cell_type": "code",
   "execution_count": null,
   "id": "8539132f-c3e5-40d0-be6b-138ebe9a9cd5",
   "metadata": {},
   "outputs": [],
   "source": [
    "lm_6 = smf.ols(formula='np.log(Price_numeric) ~ Q(\"Carat Weight\") + np.maximum(Q(\"Carat Weight\") - 1, 0) + np.maximum(Q(\"Carat Weight\") - 2, 0)', data=df_smaller_train).fit()\n",
    "lm_6.summary()"
   ]
  },
  {
   "cell_type": "code",
   "execution_count": null,
   "id": "33515751-4716-4b74-8739-790be57453f4",
   "metadata": {},
   "outputs": [],
   "source": [
    "lm_6_predictions = lm_6.predict(df_validation)"
   ]
  },
  {
   "cell_type": "code",
   "execution_count": null,
   "id": "860b354b-469b-4afc-baba-a12e481f4d34",
   "metadata": {},
   "outputs": [],
   "source": [
    "mean_absolute_error(df_validation[\"Price_numeric\"], np.exp(lm_6_predictions))"
   ]
  },
  {
   "cell_type": "markdown",
   "id": "f157c9b4-0507-4cd7-b8d5-7f2a3a3595a8",
   "metadata": {},
   "source": [
    "## Your Turn"
   ]
  },
  {
   "cell_type": "code",
   "execution_count": null,
   "id": "ba953ebb-af5e-4402-82b1-22e8139c56c8",
   "metadata": {},
   "outputs": [],
   "source": []
  },
  {
   "cell_type": "code",
   "execution_count": null,
   "id": "adddb1eb-d03c-42e4-b26e-b6184943a580",
   "metadata": {},
   "outputs": [],
   "source": []
  },
  {
   "cell_type": "code",
   "execution_count": null,
   "id": "d6695033-63f8-4e4c-8522-d703b91b0626",
   "metadata": {},
   "outputs": [],
   "source": []
  },
  {
   "cell_type": "markdown",
   "id": "97066ef2-4383-4d8b-bdf1-6d3c8d5e130d",
   "metadata": {},
   "source": [
    "## Submitting Final Predictions"
   ]
  },
  {
   "cell_type": "code",
   "execution_count": null,
   "id": "bd3fdfd8-c27e-4b28-9842-4a5dec6e0e8a",
   "metadata": {},
   "outputs": [],
   "source": [
    "test_predictions = lm_1.predict(df_test)"
   ]
  },
  {
   "cell_type": "code",
   "execution_count": null,
   "id": "83e8d8bd-f68a-4706-a7db-f772d59bd34b",
   "metadata": {},
   "outputs": [],
   "source": [
    "test_predictions.to_csv(\"DiamondSubmission.csv\", header=[\"Price\"])"
   ]
  }
 ],
 "metadata": {
  "kernelspec": {
   "display_name": "Python 3.10.6 ('darden2023')",
   "language": "python",
   "name": "python3"
  },
  "language_info": {
   "codemirror_mode": {
    "name": "ipython",
    "version": 3
   },
   "file_extension": ".py",
   "mimetype": "text/x-python",
   "name": "python",
   "nbconvert_exporter": "python",
   "pygments_lexer": "ipython3",
   "version": "3.10.6"
  },
  "vscode": {
   "interpreter": {
    "hash": "bb281caa4797677f8ea6ae1f44f5e39ac3bca17e340910f273999654c36eecac"
   }
  }
 },
 "nbformat": 4,
 "nbformat_minor": 5
}
